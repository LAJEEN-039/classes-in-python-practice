{
 "cells": [
  {
   "cell_type": "code",
   "execution_count": null,
   "id": "3fcc3cbe-007c-48a4-ae28-448533059dfb",
   "metadata": {},
   "outputs": [],
   "source": [
    "#LAJEEN ADNAN\n",
    "#FA24-BBD-039"
   ]
  },
  {
   "cell_type": "code",
   "execution_count": null,
   "id": "736de6bc-a8ef-42d6-ae65-fdc4f6b7d455",
   "metadata": {},
   "outputs": [],
   "source": [
    "#PRACTICE QUESTIONS\n",
    "#CLASSES IN PYTHON"
   ]
  },
  {
   "cell_type": "code",
   "execution_count": 5,
   "id": "87563da1-d567-4cff-95d8-8acf30570908",
   "metadata": {},
   "outputs": [
    {
     "name": "stdout",
     "output_type": "stream",
     "text": [
      "Circle area:78.5\n",
      "Rectangle area:24\n",
      "Triangle area:10.5\n"
     ]
    }
   ],
   "source": [
    "#QUESTION NO. 9\n",
    "class shape:\n",
    "    def area(self):\n",
    "        raise NotImplementedError(\"Subclasses must implement this method\")\n",
    "\n",
    "class circle(shape):\n",
    "    def __init__(self, radius):\n",
    "        self.radius = radius\n",
    "    def area(self):\n",
    "        return 3.14* self.radius**2\n",
    "\n",
    "class rectangle(shape):\n",
    "    def __init__(self,width,height):\n",
    "        self.width = width\n",
    "        self.height = height\n",
    "    def area(self):\n",
    "        return self.width*self.height\n",
    "\n",
    "class triangle(shape):\n",
    "    def __init__(self,base,height):\n",
    "        self.base = base\n",
    "        self.height = height\n",
    "    def area (self):\n",
    "        return 0.5*self.base* self.height\n",
    "\n",
    "circle = circle(radius=5)\n",
    "rectangle = rectangle(width=4, height=6)\n",
    "triangle = triangle(base=3, height=7)\n",
    "\n",
    "print(f\"Circle area:{circle.area()}\")\n",
    "print(f\"Rectangle area:{rectangle.area()}\")\n",
    "print(f\"Triangle area:{triangle.area()}\")"
   ]
  },
  {
   "cell_type": "code",
   "execution_count": 9,
   "id": "33fc2f49-fe0b-4402-846b-844385674bbe",
   "metadata": {},
   "outputs": [
    {
     "name": "stdout",
     "output_type": "stream",
     "text": [
      "Buddy says Woof.\n",
      "Whiskers says Meow.\n",
      "Bessie says Moo.\n"
     ]
    }
   ],
   "source": [
    "#QUESTION NO. 10\n",
    "class animal:\n",
    "    def __init__(self,name,sound):\n",
    "        self.name = name\n",
    "        self.sound = sound\n",
    "\n",
    "    def make_sound(self):\n",
    "        return self.sound\n",
    "\n",
    "class dog(animal):\n",
    "    def __init__(self,name):\n",
    "        super().__init__(name,\"Woof\")\n",
    "\n",
    "class cat(animal):\n",
    "    def __init__(self,name):\n",
    "        super().__init__(name,\"Meow\")\n",
    "\n",
    "class cow(animal):\n",
    "    def __init__(self,name):\n",
    "        super().__init__(name,\"Moo\")\n",
    "\n",
    "dog = dog(\"Buddy\")\n",
    "cat = cat(\"Whiskers\")\n",
    "cow = cow(\"Bessie\")\n",
    "\n",
    "print(f\"{dog.name} says {dog.make_sound()}.\")\n",
    "print(f\"{cat.name} says {cat.make_sound()}.\")\n",
    "print(f\"{cow.name} says {cow.make_sound()}.\")\n"
   ]
  },
  {
   "cell_type": "code",
   "execution_count": null,
   "id": "8794cf0c-a990-407d-acfe-defec232c1b2",
   "metadata": {},
   "outputs": [],
   "source": []
  }
 ],
 "metadata": {
  "kernelspec": {
   "display_name": "Python 3 (ipykernel)",
   "language": "python",
   "name": "python3"
  },
  "language_info": {
   "codemirror_mode": {
    "name": "ipython",
    "version": 3
   },
   "file_extension": ".py",
   "mimetype": "text/x-python",
   "name": "python",
   "nbconvert_exporter": "python",
   "pygments_lexer": "ipython3",
   "version": "3.12.4"
  }
 },
 "nbformat": 4,
 "nbformat_minor": 5
}
